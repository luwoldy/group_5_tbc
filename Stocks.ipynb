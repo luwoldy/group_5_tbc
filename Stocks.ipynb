{
 "cells": [
  {
   "cell_type": "code",
   "execution_count": 11,
   "metadata": {},
   "outputs": [],
   "source": [
    "import pandas as pd\n",
    "import numpy as np\n",
    "import requests\n",
    "import json\n",
    "import time\n",
    "\n",
    "API_Key= \"W04TB8N8UXKFN6FJ\""
   ]
  },
  {
   "cell_type": "code",
   "execution_count": 12,
   "metadata": {},
   "outputs": [],
   "source": [
    "Companies= [\"Apple\", \"Berkshire Hathaway\", \"JP Morgan Chase\", \"ExxonMobil\", \"AT&T\", \"Bank of America\", \"Wells Fargo\", \n",
    "            \"Verizon\", \"Microsoft\", \"Wal-Mart\", \"Alphabet\", \"Amazon\"  ]\n",
    "Tickers= [\"AAPL\", \"BRK.A\", \"JPM\", \"XOM\", \"T\", \"BAC\", \"WFC\", \"VZ\", \"MSFT\", \"WMT\", \"GOOGL\", \"AMZN\"]"
   ]
  },
  {
   "cell_type": "code",
   "execution_count": 13,
   "metadata": {},
   "outputs": [
    {
     "ename": "KeyboardInterrupt",
     "evalue": "",
     "output_type": "error",
     "traceback": [
      "\u001b[0;31m---------------------------------------------------------------------------\u001b[0m",
      "\u001b[0;31mKeyboardInterrupt\u001b[0m                         Traceback (most recent call last)",
      "\u001b[0;32m<ipython-input-13-b2160649b97a>\u001b[0m in \u001b[0;36m<module>\u001b[0;34m()\u001b[0m\n\u001b[1;32m      9\u001b[0m \u001b[0;32mfor\u001b[0m \u001b[0mTicker\u001b[0m \u001b[0;32min\u001b[0m \u001b[0mTickers\u001b[0m\u001b[0;34m:\u001b[0m\u001b[0;34m\u001b[0m\u001b[0m\n\u001b[1;32m     10\u001b[0m \u001b[0;34m\u001b[0m\u001b[0m\n\u001b[0;32m---> 11\u001b[0;31m     \u001b[0mtime\u001b[0m\u001b[0;34m.\u001b[0m\u001b[0msleep\u001b[0m\u001b[0;34m(\u001b[0m\u001b[0;36m15\u001b[0m\u001b[0;34m)\u001b[0m\u001b[0;34m\u001b[0m\u001b[0m\n\u001b[0m\u001b[1;32m     12\u001b[0m     \u001b[0murl\u001b[0m \u001b[0;34m=\u001b[0m \u001b[0;34m\"https://www.alphavantage.co/query?function=TIME_SERIES_DAILY&symbol=\"\u001b[0m\u001b[0;34m\u001b[0m\u001b[0m\n\u001b[1;32m     13\u001b[0m     \u001b[0mquery_url\u001b[0m \u001b[0;34m=\u001b[0m \u001b[0murl\u001b[0m \u001b[0;34m+\u001b[0m \u001b[0mTicker\u001b[0m \u001b[0;34m+\u001b[0m \u001b[0;34m\"&apikey=\"\u001b[0m \u001b[0;34m+\u001b[0m \u001b[0mAPI_Key\u001b[0m\u001b[0;34m\u001b[0m\u001b[0m\n",
      "\u001b[0;31mKeyboardInterrupt\u001b[0m: "
     ]
    }
   ],
   "source": [
    "stockopen= []\n",
    "stockclose= []\n",
    "stockhigh= []\n",
    "stocklow= []\n",
    "volume= []\n",
    "date= []\n",
    "stock = []\n",
    "\n",
    "for Ticker in Tickers: \n",
    "    \n",
    "    time.sleep(15)\n",
    "    url = \"https://www.alphavantage.co/query?function=TIME_SERIES_DAILY&symbol=\"\n",
    "    query_url = url + Ticker + \"&apikey=\" + API_Key\n",
    "    response= requests.get(query_url).json()\n",
    "    stock.append(response)\n",
    "    \n",
    "    \n",
    "    \n",
    "\n"
   ]
  },
  {
   "cell_type": "code",
   "execution_count": null,
   "metadata": {},
   "outputs": [],
   "source": [
    "stock"
   ]
  },
  {
   "cell_type": "code",
   "execution_count": null,
   "metadata": {},
   "outputs": [],
   "source": [
    "#stockopen.append(stock[1][0][0])\n",
    "#response.dtypes\n",
    "response.keys()\n"
   ]
  },
  {
   "cell_type": "code",
   "execution_count": null,
   "metadata": {},
   "outputs": [],
   "source": []
  },
  {
   "cell_type": "code",
   "execution_count": null,
   "metadata": {},
   "outputs": [],
   "source": [
    "for z in range (len(stock)):\n",
    "    date.append(stock[z]['Time Series (Daily)'])\n",
    "date"
   ]
  },
  {
   "cell_type": "code",
   "execution_count": null,
   "metadata": {},
   "outputs": [],
   "source": [
    "for z in range (len(response)):\n",
    "    date= response.get(\"Time Series (Daily)\"[0]))\n",
    "print(date)\n"
   ]
  },
  {
   "cell_type": "code",
   "execution_count": 8,
   "metadata": {},
   "outputs": [],
   "source": [
    "import intrinio_sdk \n",
    "from intrinio_sdk.rest import ApiException\n",
    "intrinio_sdk.ApiClient().configuration.api_key['api_key'] = 'OmFkOGYyOGRkNzFkMGFhNTA4Zjc1YmM0YzQxZTExZDdk'\n",
    "\n",
    "company_api = intrinio_sdk.CompanyApi()\n"
   ]
  },
  {
   "cell_type": "code",
   "execution_count": 14,
   "metadata": {},
   "outputs": [
    {
     "name": "stdout",
     "output_type": "stream",
     "text": [
      "Exception when calling CompanyApi->get_company_historical_data: (401)\n",
      "Reason: Unauthorized\n",
      "HTTP response headers: HTTPHeaderDict({'Date': 'Thu, 17 Jan 2019 01:49:09 GMT', 'Content-Type': 'application/json', 'Content-Length': '109', 'Connection': 'keep-alive', 'Vary': 'Origin,Accept-Encoding'})\n",
      "HTTP response body: {\"error\":\"No active subscription(s).\",\"message\":\"Visit our website to obtain a subscription to a data feed.\"}\n",
      "\n",
      "\n"
     ]
    }
   ],
   "source": [
    "\n",
    "\n",
    "identifier = 'AAPL' # str | A Company identifier (Ticker, CIK, LEI, Intrinio ID)\n",
    "tag = 'marketcap' # str | An Intrinio data-tag\n",
    "frequency = 'daily' # str | Return historical data in the given frequency (optional) (default to daily)\n",
    "\n",
    "start_date = '2018-01-01' # date | Get historical data on or after this date (optional)\n",
    "end_date = '2019-01-01' # date | Get historical data on or before this date (optional)\n",
    "sort_order = 'desc' # str | Sort by date `asc` or `desc` (optional) (default to desc)\n",
    "next_page = '' # str | Gets the next page of data from a previous API call (optional)\n",
    "\n",
    "try:\n",
    "    api_response = company_api.get_company_historical_data(identifier, tag, frequency=frequency, type=type, start_date=start_date, end_date=end_date, sort_order=sort_order, next_page=next_page)\n",
    "    pprint(api_response)\n",
    "except ApiException as e:\n",
    "    print(\"Exception when calling CompanyApi->get_company_historical_data: %s\\n\" % e)\n",
    "    \n",
    "    \n",
    "    \n",
    "    "
   ]
  },
  {
   "cell_type": "code",
   "execution_count": null,
   "metadata": {},
   "outputs": [],
   "source": []
  }
 ],
 "metadata": {
  "kernelspec": {
   "display_name": "Python 3",
   "language": "python",
   "name": "python3"
  },
  "language_info": {
   "codemirror_mode": {
    "name": "ipython",
    "version": 3
   },
   "file_extension": ".py",
   "mimetype": "text/x-python",
   "name": "python",
   "nbconvert_exporter": "python",
   "pygments_lexer": "ipython3",
   "version": "3.6.6"
  }
 },
 "nbformat": 4,
 "nbformat_minor": 2
}
