{
 "cells": [
  {
   "cell_type": "code",
   "execution_count": 1,
   "metadata": {},
   "outputs": [],
   "source": [
    "import requests\n",
    "from config import news_key\n",
    "from newsapi import NewsApiClient\n",
    "import json\n",
    "import pandas as pd\n",
    "from datetime import datetime, timedelta"
   ]
  },
  {
   "cell_type": "code",
   "execution_count": 2,
   "metadata": {},
   "outputs": [
    {
     "name": "stdout",
     "output_type": "stream",
     "text": [
      "2018-12-16\n"
     ]
    }
   ],
   "source": [
    "#We dynamically generating last 30 days\n",
    "dates = []\n",
    "for x in range(31):\n",
    "    dates.append(datetime.now() - timedelta(days=x))\n",
    "\n",
    "print(str(dates[30])[:10])"
   ]
  },
  {
   "cell_type": "code",
   "execution_count": 3,
   "metadata": {},
   "outputs": [],
   "source": [
    "# Init\n",
    "newsapi = NewsApiClient(api_key=news_key)\n",
    "\n",
    "# We looped throught 50 pages of amazon related articles to read headline, time, and description.\n",
    "headline = []\n",
    "date = []\n",
    "description = []\n",
    "\n",
    "for x in range(1,50):\n",
    "    amazon_articles = newsapi.get_everything(q='amazon',\n",
    "                                      from_param= str(dates[28])[:10],\n",
    "                                      to=str(dates[27])[:10],\n",
    "                                      language='en',\n",
    "                                      sort_by='relevancy', page=x)\n",
    "    \n",
    "    for i in range(len(amazon_articles[\"articles\"])):\n",
    "        headline.append(amazon_articles[\"articles\"][i][\"title\"])\n",
    "        date.append(amazon_articles[\"articles\"][i][\"publishedAt\"])\n",
    "        description.append(amazon_articles[\"articles\"][i][\"description\"])                              \n",
    "    #request the headline\n",
    "\n",
    "        #loop through entities and check for type 2\n",
    "        #append the text of the type 2 entity to Organization column\n",
    "        #if an org is found in the headline go to next loop\n",
    "        #if its not loop through description\n",
    "        "
   ]
  },
  {
   "cell_type": "code",
   "execution_count": 39,
   "metadata": {},
   "outputs": [
    {
     "data": {
      "text/plain": [
       "980"
      ]
     },
     "execution_count": 39,
     "metadata": {},
     "output_type": "execute_result"
    }
   ],
   "source": []
  },
  {
   "cell_type": "code",
   "execution_count": 40,
   "metadata": {},
   "outputs": [
    {
     "name": "stdout",
     "output_type": "stream",
     "text": [
      "635\n"
     ]
    }
   ],
   "source": [
    "organization = []\n",
    "for i in range(len(headline)):\n",
    "    request = requests.post(\"http://api.intellexer.com/recognizeNeText?apikey=fbe3ac25-304d-4384-aeb8-4bc2c32568e4&loadNamedEntities=true&loadRelationsTree=true&loadSentences=true\", data= f\"{headline[i]}\".encode('utf-8')).json()\n",
    "    for y in range(len(request[\"entities\"])):\n",
    "        try:\n",
    "            if request['entities'][y][\"type\"]==2:\n",
    "                organization.append(request[\"entities\"][y][\"text\"]) \n",
    "        except:\n",
    "            continue\n",
    "print(len(organization))                  "
   ]
  },
  {
   "cell_type": "code",
   "execution_count": 41,
   "metadata": {},
   "outputs": [
    {
     "name": "stdout",
     "output_type": "stream",
     "text": [
      "['Amazon', 'Facebook', 'Amazon', \"Target 's Shipt\", 'Walmart', 'Facebook', 'Facebook', 'Apple HomePod', 'Facebook Portal', 'Google Home', 'Instant Pot', 'Keurig', 'Google', 'Amazon', 'Walmart', 'Amazon', 'Amazon', 'Support Apple Music', 'MyHeritage DNA', 'Oracle', 'Amazon', 'Apple', 'CNET', 'Amazon', 'FedEx', 'Apple Music', 'Amazon', 'CNET', 'LG', 'Oracle', 'CNET', 'Nintendo Switch', 'Facebook', 'Netflix', 'MLB', 'NBA', 'Amazon', 'Starbucks', 'Facebook', 'Amazon', 'Facebook', 'Microsoft', 'Netflix', 'Amazon', 'CNET', 'Nintendo Switch', 'Amazon Prime', 'Sony', 'Amazon', 'Facebook', 'Google', 'Netflix', 'Google Pixel', 'CNET', 'Jabra Elite', 'Walmart', \"Kohl 's\", 'KSS', 'Amazon', 'Amazon', 'Globe and Mail', 'Roku', 'Tenergy', 'Amazon Prime', 'Netflix', 'Apple', 'Apple Music Echo Support', 'Facebook Caps', 'Porg', 'CNET', 'Amazon', 'Facebook', 'Microsoft', 'Netflix', 'NYT', 'Spotify', 'Yahoo', 'Google', 'Amazon Prime', 'Amazon', 'Apple', 'Facebook', 'Amazon', 'Glam Bar', 'Facebook', 'NASA', 'Amazon', 'Amazon', 'Amazon', 'Amazon', 'Facebook', 'Netflix', 'Target', 'Bonobos', 'Dell', 'Facebook', 'Samsung Galaxy', 'Philips Hue', 'Facebook', 'Apple', 'CNET', 'Apple', 'CNET', 'Facebook', 'Amazon', 'Apple', 'Apple Music', 'Facebook', 'Netflix', 'Facebook', 'Netflix', 'Netflix', 'Facebook', 'ABS-CBN News', 'Amazon', 'Apple', 'Huawei', 'Twitter', 'Amazon', 'Starbucks', 'Apple', 'Google', 'Amazon', 'Facebook', 'Microsoft', 'Netflix', 'Sony', 'Oracle', 'Red Hat', 'Alienware', 'Walmart', 'Genius Amazon Gifts', 'Amazon', 'Facebook', 'Microsoft', 'York Times', 'Tenergy', 'Alienware', 'Amazon', 'Huawei', 'Google', 'Google Home Hub', 'Apple', 'Facebook', 'Facebook', 'Amazon', 'Amazon', 'Facebook Allowed Netflix', 'YouTube', 'Facebook', 'Apple', 'Facebook', 'Walmart', 'Amazon Deal', 'Amazon Deal', 'Amazon Deal', 'Walmart', 'Journal', 'Manchester United', 'Amazon', 'OutdoorMaster Ski Helmet Pro', 'Qualcomm Quick Charge', 'KMC', 'Microsoft', 'Microsoft', 'Journal', 'Journal', 'Facebook', 'Microsoft Surface', 'Telstra', 'Amazon', 'Amazon', 'Facebook', 'Netflix', 'Amazon', 'Amazon', 'Apple', 'Walmart', 'Lime', 'Amazon Deal', 'Cotton Hotel', 'Spa Bath Towel Sets', 'Tenergy Otis Robot Vacuum Cleaner', 'Amazon Deal', 'Amazon Deal', 'Starbucks Gift Card', 'Amazon Deal', 'Everlast Reusable Smart', 'Amazon', 'Apple Music', 'FCC', 'Samsung', 'AUKEY Wireless Chargers', 'Nintendo Switch', 'CNET', 'Chase Amazon Deal', 'Stanley Bottles', 'NASA Engineer', 'Journal', 'Senate', 'Facebook', 'Amazon', 'Amazon', 'African Grey Parrot', 'Amazon', 'Apple', 'Amazon', 'FedEx', 'Postal Service Handle Holiday Shipping', 'UPS', 'Facebook', 'Forza', 'Facebook', 'Amazon', 'Amazon', 'Facebook Raised', 'Amazon Echo', 'Apple Music Integration', 'Apple Sending Push Notifications', 'Amazon', 'Netflix', 'Facebook', 'Samsung S32D850T', 'Amazon', 'Apple', 'News UK', 'HBO', 'Facebook and Silicon Valley', 'Amazon', 'Buy', 'Starbucks Gift Card', 'Nintendo', 'Dollar General', 'Target And Amazon', 'Amazon', 'Amazon', 'Target', 'Walmart', 'Nintendo Switch', 'Amazon Prime', 'Catalyst', 'Amazon', 'Amazon', 'Target', 'Apple', 'Birds And Birding', 'Apple', 'Amazon', 'Google', 'Amazon Prime', 'Microsoft', 'Amazon', 'Amazon', 'Amazon Shopping Secrets', 'Dow', 'Apple Music', 'Facebook', 'Microsoft', 'Facebook', 'NYT', 'Facebook', 'Amazon', 'Facebook', 'Netflix', 'Amazon', 'Amazon Music Unlimited', 'Hate Facebook', 'Amazon', 'Edmonton Sun', 'Amazon', 'FacebookвЂ™s Partners', 'Amazon Prime', 'Fossil Sport Smartwatch', 'Google Home Mini', 'Samsung Chromebook', 'Google Home Hub', 'Google Play Gift Card', 'Amazon', 'Amazon', 'Shop Amazon Devices', 'Facebook', \"Samsonite 's Amazon Strategy\", 'Facebook', 'Amazon', 'Amazon Discounts Tile', 'Amazon Discounts Robot Vacuums', 'Amazon', 'Apple', 'Facebook', 'Microsoft', 'Amazon Fire Kids', 'Shop Amazon Devices', 'Samsung', 'Washington Post', 'Amazon', 'Facebook', 'Facebook', 'Amazon', 'Amazon', 'Amazon', 'Amazon', 'Washington Post', 'Amazon', 'Amazon', 'Amazon', 'KEF', 'Amazon', 'Amazon', 'Amazon', 'Amazon', 'FedEx', 'Amazon', 'Amazon', 'Shop Amazon Outlet', 'Amazon ECR', 'Amazon MQ', 'Shop Amazon', 'Amazon', 'Amazon Canada', 'Amazon Echo', 'Amazon', 'Postal Service', 'Amazon Echo', 'Apple Music', 'de Amazon', 'Amazon', 'Democrats', 'Facebook', 'Facebook', 'Amazon', 'Amazon', 'Fox Business', 'Amazon', 'Fox Business', 'Google', 'Twitter', 'Amazon', 'Samsung Gear', 'Google', 'Amazon', 'Facebook', 'Smash Bros', 'Edmonton Oilers', 'St. Louis Blues', 'Amazon API Gateway', 'LG', 'NASA', 'Amazon Echo', 'Starbucks Gift Card', 'T-Mobile', \"Alibaba 's Revenue Growth\", 'Amazon', 'Power Bank', 'Shop Amazon', 'Shop Amazon', 'News Journal', 'Amazon', 'Amazon', 'Amazon', 'Facebook', 'Google', 'NASA', 'Amazon Alexa', 'Amazon', 'T-Mobile', 'Facebook', 'Facebook', 'CNET', 'Amazon WorkDocs Tasks', 'Amazon MQ', 'CNET', 'Amazon Data Lifecycle Manager', 'Apple', 'Apple Music', 'Facebook', 'Yahoo Finance', 'Cavalier Maverick', 'Business Journal', 'Reuters', 'euronews', 'NASA', 'Nintendo Switch', 'Netflix', 'Amazon Alexa Guard', 'Echo', 'Facebook Messages', 'Netflix Swears', 'Amazon', 'Amazon', 'Apple Music', 'Washington Post Dot com', 'Facebook', 'Facebook', 'NYT', 'Facebook', 'Amazon', 'Amazon', 'Facebook', 'Microsoft', 'Facebook', 'Williams-Sonoma', 'Williams-Sonoma Sues Amazon', 'CNET', 'TiVo Bolt OTA', 'Facebook', 'Amazon', 'Starbucks', 'Dell', 'Facebook', 'Netflix', 'Amazon', 'Amazon', 'Amazon', 'Amazon', 'Amazon', 'FedEx', 'UPS', 'Amazon', 'Facebook', 'Google', 'Vizio', 'GAEMS Sentinel Pro Xp Portable', 'Facebook', 'Netflix', 'Amazon', 'Facebook', 'Microsoft', 'Google', \"Amazon 's HQ2\", 'Amazon', 'Google', 'Amazon', 'Former NASA', 'LG', 'Google', 'Amazon', 'New York', 'Facebook', 'Amazon', 'Amazon', 'Apple', 'LOT', 'Amazon Holiday', 'Nintendo', 'Amazon Holiday', 'Amazon Music', 'Journal', 'Amazon', 'Amazon', 'Amazon', 'Delta Risk', 'Google', 'Amazon', 'Walmart', 'Mellanox', 'Microsoft', 'Amazon', 'Walmart', \"Facebook 's Data-Sharing\", 'Apple Watch', 'Samsung Pro Chromebook', 'Amazon', 'Amazon', 'Netflix', 'Amazon Web Services', 'Oracle', 'Nikon', \"Facebook 's Data-Sharing\", 'ESR', 'Comcast Xfinity', 'YouTube', 'Refurb Samsung', 'Netflix', 'Facebook', 'Dell GC', 'Vizio', 'WNEP Scranton', 'Red', 'CNET', 'Anker Soundcore Infini Integrated', 'Amazon', 'Google', 'AOL', 'Facebook', 'Fox Business', 'Amazon', 'Starbucks', 'Amazon', 'Amazon Deal', 'Google', 'Samsung', 'Amazon', 'Williams-Sonoma', 'Amazon', 'Amazon', 'Amazon', 'Nintendo Switch Pokemon Light', 'Amazon', 'Babyganics Items', 'Amazon', 'Amazon', 'Amazon', 'Amazon', 'Netflix', 'Amazon Echo', 'Apple', 'Amazon', 'Amazon', 'Sony Wireless Noise', 'Amazon', 'Amazon', 'Nvidia', 'Buy QAD', 'QADA', 'Netflix', 'NFLX', 'Hedge Funds Love NCR', 'NCR', 'Hedge Funds', 'Liberty Properties', 'OLP', 'AMTD', 'TD Ameritrade Holding', 'Buy Enerplus', 'ERF', 'Pretium Resources', 'PVG', 'Buy Meredith', 'MDP', 'INST', 'Instructure', 'American Woodmark', 'AMWD', 'Buy Lancaster Colony', 'LANC', 'Hedge Funds', 'NANO', 'Nanometrics Incorporated', 'DERM', 'Hedge Funds Love Dermira', 'Amazon Shareholders', 'Amazon', 'Amazon', 'Amazon', 'Starbucks', 'Facebook Stock', \"Investor 's Business Daily\", 'Amazon', 'Amazon', 'Nikon', 'Mozilla', 'Amazon', 'Facebook', 'Amazon Lightning Deal', 'Google', 'Facebook', 'Amazon Lightning Deal', 'Facebook', 'Facebook Private Data Controversy', 'Facebook', 'Disney Bedtime', 'Nintendo Switch', 'Sony', \"Alibaba 's Revenue Growth\", 'Nikon AF-S', 'Apple', 'Samsung', 'LEGO Worlds', 'Amazon', 'Facebook Messages', 'Netflix Swears', 'NBA', 'Facebook Messages', 'Netflix Swears', 'Facebook', 'Twitter', 'Apple Music', 'AAA', 'ThousandShores Amazon', 'Starbucks Gift Card', 'Amazon Fire', 'Amazon', 'Netflix', 'NBC Sports Gold', 'NASA Engineer', 'Amazon', 'Amazon Holiday', 'iRobot Roomba', 'Amazon Holiday', 'Amazon Holiday', 'Jabra Elite', 'Amazon', 'Canon AiO', 'Samsung', 'Sears', 'Williams-Sonoma', 'Amazon', 'Amazon', 'Facebook', 'Amazon', 'Facebook', 'Microsoft', 'Netflix', 'Ninja', 'Amazon', 'Mothercare', 'Rexel', 'Amazon', 'Apple', 'Facebook', 'Google', 'Amazon SageMakerгЃ§гЃ®е-¦зї\\'г\\'\"жЋЁи\"-ж™\\'гЃ', 'Facebook', 'Burned-Down National Museum Of Brazil', 'Google', 'Amazon Holiday', 'BoostIQ RoboVac', 'Amazon Echo Dot', 'Amazon Holiday', 'Amazon Holiday', 'Best Amazon Echo', 'Facebook', 'Amazon', 'Starbucks Gift Card Purchase', 'BenQ', 'Digital Radio', 'Eau De Parfum for Women', 'Facebook', 'Amazon', 'Google', 'NAACP', 'Virtual Company', 'San Francisco Chronicle', 'Amazon', 'Amazon']\n"
     ]
    }
   ],
   "source": [
    "print(organization)"
   ]
  },
  {
   "cell_type": "code",
   "execution_count": 5,
   "metadata": {},
   "outputs": [],
   "source": [
    "# We removed time stamp from PublishedAT column\n",
    "published_date = []\n",
    "\n",
    "for x in range(len(date)):\n",
    "    published_date.append(str(date[x])[:10])\n"
   ]
  },
  {
   "cell_type": "code",
   "execution_count": 6,
   "metadata": {},
   "outputs": [
    {
     "data": {
      "text/html": [
       "<div>\n",
       "<style scoped>\n",
       "    .dataframe tbody tr th:only-of-type {\n",
       "        vertical-align: middle;\n",
       "    }\n",
       "\n",
       "    .dataframe tbody tr th {\n",
       "        vertical-align: top;\n",
       "    }\n",
       "\n",
       "    .dataframe thead th {\n",
       "        text-align: right;\n",
       "    }\n",
       "</style>\n",
       "<table border=\"1\" class=\"dataframe\">\n",
       "  <thead>\n",
       "    <tr style=\"text-align: right;\">\n",
       "      <th></th>\n",
       "      <th>Headline</th>\n",
       "      <th>PublishedAt</th>\n",
       "      <th>Description</th>\n",
       "    </tr>\n",
       "  </thead>\n",
       "  <tbody>\n",
       "    <tr>\n",
       "      <th>0</th>\n",
       "      <td>2018: The year Amazon became even harder to avoid</td>\n",
       "      <td>2018-12-18</td>\n",
       "      <td>It's been ages since Amazon was just a place t...</td>\n",
       "    </tr>\n",
       "    <tr>\n",
       "      <th>1</th>\n",
       "      <td>Amazon and Facebook Reportedly Had a Secret Da...</td>\n",
       "      <td>2018-12-19</td>\n",
       "      <td>Back in 2015, a woman named Imy Santiago wrote...</td>\n",
       "    </tr>\n",
       "    <tr>\n",
       "      <th>2</th>\n",
       "      <td>Target’s Shipt same-day delivery service will ...</td>\n",
       "      <td>2018-12-18</td>\n",
       "      <td>Shipt, the same-day grocery delivery service a...</td>\n",
       "    </tr>\n",
       "    <tr>\n",
       "      <th>3</th>\n",
       "      <td>The best UK deals for Tuesday: Beats headphone...</td>\n",
       "      <td>2018-12-18</td>\n",
       "      <td>The Amazon Christmas sale only has a few more ...</td>\n",
       "    </tr>\n",
       "    <tr>\n",
       "      <th>4</th>\n",
       "      <td>Where does your Facebook data go?</td>\n",
       "      <td>2018-12-19</td>\n",
       "      <td>Facebook offered more of its users' data to co...</td>\n",
       "    </tr>\n",
       "  </tbody>\n",
       "</table>\n",
       "</div>"
      ],
      "text/plain": [
       "                                            Headline PublishedAt  \\\n",
       "0  2018: The year Amazon became even harder to avoid  2018-12-18   \n",
       "1  Amazon and Facebook Reportedly Had a Secret Da...  2018-12-19   \n",
       "2  Target’s Shipt same-day delivery service will ...  2018-12-18   \n",
       "3  The best UK deals for Tuesday: Beats headphone...  2018-12-18   \n",
       "4                  Where does your Facebook data go?  2018-12-19   \n",
       "\n",
       "                                         Description  \n",
       "0  It's been ages since Amazon was just a place t...  \n",
       "1  Back in 2015, a woman named Imy Santiago wrote...  \n",
       "2  Shipt, the same-day grocery delivery service a...  \n",
       "3  The Amazon Christmas sale only has a few more ...  \n",
       "4  Facebook offered more of its users' data to co...  "
      ]
     },
     "execution_count": 6,
     "metadata": {},
     "output_type": "execute_result"
    }
   ],
   "source": [
    "df = pd.DataFrame({\"Headline\":headline, \"PublishedAt\":published_date, \"Description\":description})\n",
    "df.head()"
   ]
  },
  {
   "cell_type": "code",
   "execution_count": null,
   "metadata": {},
   "outputs": [],
   "source": []
  }
 ],
 "metadata": {
  "kernelspec": {
   "display_name": "Python 3",
   "language": "python",
   "name": "python3"
  },
  "language_info": {
   "codemirror_mode": {
    "name": "ipython",
    "version": 3
   },
   "file_extension": ".py",
   "mimetype": "text/x-python",
   "name": "python",
   "nbconvert_exporter": "python",
   "pygments_lexer": "ipython3",
   "version": "3.6.6"
  }
 },
 "nbformat": 4,
 "nbformat_minor": 2
}
