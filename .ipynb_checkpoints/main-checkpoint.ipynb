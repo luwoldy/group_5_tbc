{
 "cells": [
  {
   "cell_type": "code",
   "execution_count": 1,
   "metadata": {},
   "outputs": [],
   "source": [
    "#Import modules\n",
    "import requests\n",
    "from config import news_key, int_key\n",
    "from newsapi import NewsApiClient\n",
    "import json\n",
    "import pandas as pd\n",
    "from datetime import datetime, timedelta"
   ]
  },
  {
   "cell_type": "code",
   "execution_count": 15,
   "metadata": {},
   "outputs": [],
   "source": [
    "#Get only weekdays in an array so we can search the News API\n",
    "Tickers= [\"AAPL\", \"BRK.A\", \"JPM\", \"XOM\", \"T\", \"BAC\", \"WFC\", \"VZ\", \"MSFT\", \"WMT\", \"GOOGL\", \"AMZN\"]\n",
    "stock = requests.get(f\"https://api.iextrading.com/1.0/stock/{Tickers[0]}/chart/1m\")\n",
    "stocks = stock.json()\n",
    "dates = []\n",
    "\n",
    "for i in range(len(stocks)):\n",
    "    dates.append(stocks[i][\"date\"])\n",
    "#take off the first date if we are outside of the news API date frame\n",
    "#dates.remove(dates[0])\n"
   ]
  },
  {
   "cell_type": "code",
   "execution_count": 47,
   "metadata": {},
   "outputs": [],
   "source": [
    "# Set up NewsAPI client\n",
    "newsapi = NewsApiClient(api_key=news_key)\n",
    "\n",
    "# Create empty arrays to receive responses\n",
    "headline = []\n",
    "date_published = []\n",
    "description = []\n",
    "\n",
    "#Search the NewsAPI for articles about a company on stock days\n",
    "for x in range(1,5):\n",
    "    for date in dates:\n",
    "        amazon_articles = newsapi.get_everything(q='Amazon',\n",
    "                                          from_param= date,\n",
    "                                          to= date,\n",
    "                                          language='en',\n",
    "                                          sort_by='relevancy', page=x)\n",
    "\n",
    "        #Output headline names, date, and description\n",
    "        for i in range(len(amazon_articles[\"articles\"])):\n",
    "            headline.append(amazon_articles[\"articles\"][i][\"title\"])\n",
    "            date_published.append(amazon_articles[\"articles\"][i][\"publishedAt\"])\n",
    "            description.append(amazon_articles[\"articles\"][i][\"description\"])                              \n",
    "\n"
   ]
  },
  {
   "cell_type": "code",
   "execution_count": 49,
   "metadata": {},
   "outputs": [],
   "source": [
    "#Find the company name of each headline\n",
    "#Put the other information into an array for main Datafame\n",
    "company = []\n",
    "company_headline = []\n",
    "company_date = []\n",
    "company_sentiment = []\n",
    "for i in range(50):\n",
    "    request = requests.post(f\"http://api.intellexer.com/recognizeNeText?apikey={int_key}&loadNamedEntities=true&loadRelationsTree=False&loadSentences=true\", data= f\"{headline[i] + description[i]}\".encode('utf-8')).json()\n",
    "    for y in range(len(request[\"entities\"])):\n",
    "        try:\n",
    "            if request['entities'][y][\"type\"]== 2 and request['entities'][y][\"text\"] == \"Amazon\":\n",
    "                company.append(request[\"entities\"][y][\"text\"])\n",
    "                company_headline.append(headline[i])\n",
    "                company_date.append(date_published[i][:10])\n",
    "                \n",
    "                #Request the sentiment\n",
    "                url = f\"http://api.intellexer.com/analyzeSentiments?apikey={int_key}\"\n",
    "                sentiment = requests.post(url, data= json.dumps([{\"id\": \"1\", \"text\": headline[i] + description[i]}]),headers = {\"Content-Type\": \"application/json\", \"Cache-Control\": \"no-cache\"}).json()\n",
    "                company_sentiment.append(float(sentiment['sentiments'][0]['w']))\n",
    "\n",
    "                break\n",
    "            else: \n",
    "                continue\n",
    "\n",
    "        except:\n",
    "            continue\n",
    "              "
   ]
  },
  {
   "cell_type": "code",
   "execution_count": 67,
   "metadata": {},
   "outputs": [
    {
     "data": {
      "text/html": [
       "<div>\n",
       "<style scoped>\n",
       "    .dataframe tbody tr th:only-of-type {\n",
       "        vertical-align: middle;\n",
       "    }\n",
       "\n",
       "    .dataframe tbody tr th {\n",
       "        vertical-align: top;\n",
       "    }\n",
       "\n",
       "    .dataframe thead th {\n",
       "        text-align: right;\n",
       "    }\n",
       "</style>\n",
       "<table border=\"1\" class=\"dataframe\">\n",
       "  <thead>\n",
       "    <tr style=\"text-align: right;\">\n",
       "      <th></th>\n",
       "      <th>Headline</th>\n",
       "      <th>Company</th>\n",
       "      <th>Date</th>\n",
       "      <th>Sentiment</th>\n",
       "    </tr>\n",
       "  </thead>\n",
       "  <tbody>\n",
       "    <tr>\n",
       "      <th>0</th>\n",
       "      <td>AWS signs on to defend itself in Oracle’s JEDI...</td>\n",
       "      <td>Amazon</td>\n",
       "      <td>2018-12-17</td>\n",
       "      <td>0.232495</td>\n",
       "    </tr>\n",
       "    <tr>\n",
       "      <th>1</th>\n",
       "      <td>Amazon is ramping up its Fire TV ad sales (AMZN)</td>\n",
       "      <td>Amazon</td>\n",
       "      <td>2018-12-17</td>\n",
       "      <td>2.000000</td>\n",
       "    </tr>\n",
       "    <tr>\n",
       "      <th>2</th>\n",
       "      <td>Workers’ rights? Bosses don’t care – soon they...</td>\n",
       "      <td>Amazon</td>\n",
       "      <td>2018-12-17</td>\n",
       "      <td>-0.891128</td>\n",
       "    </tr>\n",
       "  </tbody>\n",
       "</table>\n",
       "</div>"
      ],
      "text/plain": [
       "                                            Headline Company        Date  \\\n",
       "0  AWS signs on to defend itself in Oracle’s JEDI...  Amazon  2018-12-17   \n",
       "1   Amazon is ramping up its Fire TV ad sales (AMZN)  Amazon  2018-12-17   \n",
       "2  Workers’ rights? Bosses don’t care – soon they...  Amazon  2018-12-17   \n",
       "\n",
       "   Sentiment  \n",
       "0   0.232495  \n",
       "1   2.000000  \n",
       "2  -0.891128  "
      ]
     },
     "execution_count": 67,
     "metadata": {},
     "output_type": "execute_result"
    }
   ],
   "source": [
    "company_cols = {\"Headline\": company_headline,\n",
    "                \"Company\": company,\n",
    "                \"Date\": company_date,\n",
    "                \"Sentiment\": company_sentiment}\n",
    "company_data = pd.DataFrame(company_cols)\n",
    "#export to csv when ready\n",
    "#company_data.to_csv('company_sentiments.csv')"
   ]
  },
  {
   "cell_type": "code",
   "execution_count": 44,
   "metadata": {},
   "outputs": [],
   "source": [
    "def get_stock_csv(ticker):\n",
    "    change = []\n",
    "    stock_date = []\n",
    "    date = []\n",
    "    stock = requests.get(f\"https://api.iextrading.com/1.0/stock/{ticker}/chart/1m\")\n",
    "    stocks = stock.json()\n",
    "    \n",
    "    for i in range(len(stocks)):\n",
    "        change.append(stocks[i]['changePercent'])\n",
    "        stock_date.append(stocks[i]['date'])\n",
    "    stocks_df = pd.DataFrame({\"Date\":stock_date, \"Percent Change\": change})\n",
    "    #print to csv when ready\n",
    "    #stocks_df.to_csv(f\"{ticker}.csv\")\n",
    "    "
   ]
  },
  {
   "cell_type": "code",
   "execution_count": 45,
   "metadata": {},
   "outputs": [],
   "source": [
    "#Print out CSV's for each company \n",
    "\n",
    "for ticker in Tickers:\n",
    "    get_stock_csv(ticker)"
   ]
  }
 ],
 "metadata": {
  "kernelspec": {
   "display_name": "Python 3",
   "language": "python",
   "name": "python3"
  },
  "language_info": {
   "codemirror_mode": {
    "name": "ipython",
    "version": 3
   },
   "file_extension": ".py",
   "mimetype": "text/x-python",
   "name": "python",
   "nbconvert_exporter": "python",
   "pygments_lexer": "ipython3",
   "version": "3.6.6"
  }
 },
 "nbformat": 4,
 "nbformat_minor": 2
}
