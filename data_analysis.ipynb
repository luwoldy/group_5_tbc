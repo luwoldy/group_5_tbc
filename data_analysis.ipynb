{
 "cells": [
  {
   "cell_type": "code",
   "execution_count": 136,
   "metadata": {},
   "outputs": [],
   "source": [
    "import pandas as pd\n",
    "import numpy as np\n",
    "import matplotlib.pyplot as plt\n",
    "from scipy import stats\n",
    "import requests\n",
    "from scipy.stats import linregress"
   ]
  },
  {
   "cell_type": "code",
   "execution_count": 135,
   "metadata": {},
   "outputs": [],
   "source": [
    "Tickers= [\"AAPL\", \"BAC\", \"VZ\", \"WMT\", \"XOM\", \"AMZN\",]\n",
    "stock = requests.get(f\"https://api.iextrading.com/1.0/stock/{Tickers[0]}/chart/1m\")\n",
    "stocks = stock.json()\n",
    "dates = []\n",
    "\n",
    "for i in range(3,len(stocks)):\n",
    "    dates.append(stocks[i][\"date\"])\n"
   ]
  },
  {
   "cell_type": "code",
   "execution_count": 2,
   "metadata": {},
   "outputs": [],
   "source": [
    "#stock prices\n",
    "apple_stocks = \"Stock Prices/AAPL.csv\"\n",
    "amazon_stocks = \"Stock Prices/AMZN.csv\"\n",
    "bankoa_stocks = \"Stock Prices/BAC.csv\"\n",
    "verizon_stocks = \"Stock Prices/VZ.csv\"\n",
    "#walmart_stocks = \"Stock Prices/WMT.csv\"\n",
    "exxon_stocks = \"Stock Prices/XOM.csv\"\n",
    "\n",
    "#sentiments\n",
    "apple_sentiments = \"Sentiments/apple_sentiments_final.csv\"\n",
    "amazon_sentiments = \"Sentiments/Amazon_sentiments_final.csv\"\n",
    "bankoa_sentiments = \"Sentiments/BofA__sentiments_final.csv\"\n",
    "verizon_sentiments = \"Sentiments/verizon_final.csv\"\n",
    "#walmart_sentiments = \"Sentiments/walmart_sentiments_final.csv\"\n",
    "exxon_sentiments = \"Sentiments/exxon_final.csv\""
   ]
  },
  {
   "cell_type": "code",
   "execution_count": 143,
   "metadata": {},
   "outputs": [
    {
     "data": {
      "text/html": [
       "<div>\n",
       "<style scoped>\n",
       "    .dataframe tbody tr th:only-of-type {\n",
       "        vertical-align: middle;\n",
       "    }\n",
       "\n",
       "    .dataframe tbody tr th {\n",
       "        vertical-align: top;\n",
       "    }\n",
       "\n",
       "    .dataframe thead th {\n",
       "        text-align: right;\n",
       "    }\n",
       "</style>\n",
       "<table border=\"1\" class=\"dataframe\">\n",
       "  <thead>\n",
       "    <tr style=\"text-align: right;\">\n",
       "      <th></th>\n",
       "      <th>Slope</th>\n",
       "      <th>Intercept</th>\n",
       "      <th>Rvalue</th>\n",
       "      <th>Pvalue</th>\n",
       "      <th>StdErr</th>\n",
       "    </tr>\n",
       "  </thead>\n",
       "  <tbody>\n",
       "    <tr>\n",
       "      <th>0</th>\n",
       "      <td>0.397036</td>\n",
       "      <td>-0.869448</td>\n",
       "      <td>0.519067</td>\n",
       "      <td>0.019015</td>\n",
       "      <td>0.154099</td>\n",
       "    </tr>\n",
       "  </tbody>\n",
       "</table>\n",
       "</div>"
      ],
      "text/plain": [
       "      Slope  Intercept    Rvalue    Pvalue    StdErr\n",
       "0  0.397036  -0.869448  0.519067  0.019015  0.154099"
      ]
     },
     "execution_count": 143,
     "metadata": {},
     "output_type": "execute_result"
    }
   ],
   "source": [
    "#Prep Apple data\n",
    "apple_sentiments_df = pd.read_csv(apple_sentiments)\n",
    "apple_num_articles = apple_sentiments_df.groupby('Date').count()['Sentiment']\n",
    "apple_max_sent = apple_sentiments_df.groupby('Date')['Sentiment'].max()\n",
    "apple_min_sent = apple_sentiments_df.groupby('Date')['Sentiment'].min()\n",
    "apple_avg_sent = apple_sentiments_df.groupby('Date')['Sentiment'].mean()\n",
    "apple_sum_sent = apple_sentiments_df.groupby('Date')['Sentiment'].sum()\n",
    "\n",
    "#Add columns to stocks data\n",
    "apple_stocks_df = pd.read_csv(apple_stocks).set_index('Date')\n",
    "apple_stocks_df['#articles'] = [x for x in apple_num_articles]\n",
    "apple_stocks_df['max sentiment'] = [x for x in apple_max_sent]\n",
    "apple_stocks_df['min sentiment'] = [x for x in apple_min_sent]\n",
    "apple_stocks_df['avg sentiment'] = [x for x in apple_avg_sent]\n",
    "apple_stocks_df['sum sentiment'] = [x for x in apple_sum_sent]\n",
    "\n",
    "apple_stocks_df['Company'] = \"Apple\"\n",
    "apple_stocks_df = apple_stocks_df.drop(['Unnamed: 0'],axis=1)\n",
    "apple_stocks_df.head()\n",
    "\n",
    "\n",
    "#Statistical analysis\n",
    "(slope, intercept,rvalue,pvalue, stderr)=linregress(apple_avg_sent, apple_stocks_df['Percent Change'])\n",
    "# fit = slope * apple_stocks_df['Percent Change'] + intercept\n",
    "reg_df= pd.DataFrame({\"Slope\": [slope], \"Intercept\": [intercept], \"Rvalue\": [rvalue], \"Pvalue\": [pvalue], \"StdErr\": [stderr]})\n",
    "reg_df\n",
    "\n"
   ]
  },
  {
   "cell_type": "code",
   "execution_count": 141,
   "metadata": {},
   "outputs": [
    {
     "data": {
      "text/html": [
       "<div>\n",
       "<style scoped>\n",
       "    .dataframe tbody tr th:only-of-type {\n",
       "        vertical-align: middle;\n",
       "    }\n",
       "\n",
       "    .dataframe tbody tr th {\n",
       "        vertical-align: top;\n",
       "    }\n",
       "\n",
       "    .dataframe thead th {\n",
       "        text-align: right;\n",
       "    }\n",
       "</style>\n",
       "<table border=\"1\" class=\"dataframe\">\n",
       "  <thead>\n",
       "    <tr style=\"text-align: right;\">\n",
       "      <th></th>\n",
       "      <th>Slope</th>\n",
       "      <th>Intercept</th>\n",
       "      <th>Rvalue</th>\n",
       "      <th>Pvalue</th>\n",
       "      <th>StdErr</th>\n",
       "    </tr>\n",
       "  </thead>\n",
       "  <tbody>\n",
       "    <tr>\n",
       "      <th>0</th>\n",
       "      <td>-0.010114</td>\n",
       "      <td>0.714425</td>\n",
       "      <td>-0.005145</td>\n",
       "      <td>0.982826</td>\n",
       "      <td>0.463349</td>\n",
       "    </tr>\n",
       "  </tbody>\n",
       "</table>\n",
       "</div>"
      ],
      "text/plain": [
       "      Slope  Intercept    Rvalue    Pvalue    StdErr\n",
       "0 -0.010114   0.714425 -0.005145  0.982826  0.463349"
      ]
     },
     "execution_count": 141,
     "metadata": {},
     "output_type": "execute_result"
    }
   ],
   "source": [
    "#Prep Amazon data\n",
    "amazon_sentiments_df = pd.read_csv(amazon_sentiments)\n",
    "amazon_num_articles = amazon_sentiments_df.groupby('Date').count()['Sentiment']\n",
    "amazon_max_sent = amazon_sentiments_df.groupby('Date')['Sentiment'].max()\n",
    "amazon_min_sent = amazon_sentiments_df.groupby('Date')['Sentiment'].min()\n",
    "amazon_avg_sent = amazon_sentiments_df.groupby('Date')['Sentiment'].mean()\n",
    "amazon_sum_sent = amazon_sentiments_df.groupby('Date')['Sentiment'].sum()\n",
    "\n",
    "#Add columns to stocks data\n",
    "amazon_stocks_df = pd.read_csv(amazon_stocks).set_index('Date')\n",
    "amazon_stocks_df['#articles'] = [x for x in amazon_num_articles]\n",
    "amazon_stocks_df['max sentiment'] = [x for x in amazon_max_sent]\n",
    "amazon_stocks_df['min sentiment'] = [x for x in amazon_min_sent]\n",
    "amazon_stocks_df['avg sentiment'] = [x for x in amazon_avg_sent]\n",
    "amazon_stocks_df['sum sentiment'] = [x for x in amazon_sum_sent]\n",
    "amazon_stocks_df['Company'] = \"Amazon\"\n",
    "                                     \n",
    "amazon_stocks_df = amazon_stocks_df.drop(['Unnamed: 0'],axis=1)\n",
    "amazon_stocks_df.head()\n",
    "\n",
    "#Statistical analysis\n",
    "(slope, intercept,rvalue,pvalue, stderr)=linregress(amazon_avg_sent, amazon_stocks_df['Percent Change'])\n",
    "# fit = slope * apple_stocks_df['Percent Change'] + intercept\n",
    "reg_df= pd.DataFrame({\"Slope\": [slope], \"Intercept\": [intercept], \"Rvalue\": [rvalue], \"Pvalue\": [pvalue], \"StdErr\": [stderr]})\n",
    "reg_df"
   ]
  },
  {
   "cell_type": "code",
   "execution_count": 142,
   "metadata": {},
   "outputs": [
    {
     "data": {
      "text/html": [
       "<div>\n",
       "<style scoped>\n",
       "    .dataframe tbody tr th:only-of-type {\n",
       "        vertical-align: middle;\n",
       "    }\n",
       "\n",
       "    .dataframe tbody tr th {\n",
       "        vertical-align: top;\n",
       "    }\n",
       "\n",
       "    .dataframe thead th {\n",
       "        text-align: right;\n",
       "    }\n",
       "</style>\n",
       "<table border=\"1\" class=\"dataframe\">\n",
       "  <thead>\n",
       "    <tr style=\"text-align: right;\">\n",
       "      <th></th>\n",
       "      <th>Slope</th>\n",
       "      <th>Intercept</th>\n",
       "      <th>Rvalue</th>\n",
       "      <th>Pvalue</th>\n",
       "      <th>StdErr</th>\n",
       "    </tr>\n",
       "  </thead>\n",
       "  <tbody>\n",
       "    <tr>\n",
       "      <th>0</th>\n",
       "      <td>-0.086025</td>\n",
       "      <td>1.175849</td>\n",
       "      <td>-0.050701</td>\n",
       "      <td>0.83189</td>\n",
       "      <td>0.399402</td>\n",
       "    </tr>\n",
       "  </tbody>\n",
       "</table>\n",
       "</div>"
      ],
      "text/plain": [
       "      Slope  Intercept    Rvalue   Pvalue    StdErr\n",
       "0 -0.086025   1.175849 -0.050701  0.83189  0.399402"
      ]
     },
     "execution_count": 142,
     "metadata": {},
     "output_type": "execute_result"
    }
   ],
   "source": [
    "#Prep Bank of America data\n",
    "bankoa_sentiments_df = pd.read_csv(bankoa_sentiments)\n",
    "bankoa_num_articles = bankoa_sentiments_df.groupby('Date').count()['Sentiment']\n",
    "bankoa_max_sent = bankoa_sentiments_df.groupby('Date')['Sentiment'].max()\n",
    "bankoa_min_sent = bankoa_sentiments_df.groupby('Date')['Sentiment'].min()\n",
    "bankoa_avg_sent = bankoa_sentiments_df.groupby('Date')['Sentiment'].mean()\n",
    "bankoa_sum_sent = bankoa_sentiments_df.groupby('Date')['Sentiment'].sum()\n",
    "\n",
    "#Add columns to stocks data\n",
    "bankoa_stocks_df = pd.read_csv(bankoa_stocks).set_index('Date')\n",
    "bankoa_stocks_df['#articles'] = [x for x in bankoa_num_articles]\n",
    "bankoa_stocks_df['max sentiment'] = [x for x in bankoa_max_sent]\n",
    "bankoa_stocks_df['min sentiment'] = [x for x in bankoa_min_sent]\n",
    "bankoa_stocks_df['avg sentiment'] = [x for x in bankoa_avg_sent]\n",
    "bankoa_stocks_df['sum sentiment'] = [x for x in bankoa_sum_sent]\n",
    "bankoa_stocks_df['Company'] = \"Bank of America\"\n",
    "                            \n",
    "bankoa_stocks_df = bankoa_stocks_df.drop(['Unnamed: 0'],axis=1)\n",
    "bankoa_stocks_df.head()\n",
    "\n",
    "#Statistical analysis\n",
    "(slope, intercept,rvalue,pvalue, stderr)=linregress(bankoa_avg_sent, bankoa_stocks_df['Percent Change'])\n",
    "# fit = slope * apple_stocks_df['Percent Change'] + intercept\n",
    "reg_df= pd.DataFrame({\"Slope\": [slope], \"Intercept\": [intercept], \"Rvalue\": [rvalue], \"Pvalue\": [pvalue], \"StdErr\": [stderr]})\n",
    "reg_df"
   ]
  },
  {
   "cell_type": "code",
   "execution_count": 147,
   "metadata": {},
   "outputs": [
    {
     "data": {
      "text/html": [
       "<div>\n",
       "<style scoped>\n",
       "    .dataframe tbody tr th:only-of-type {\n",
       "        vertical-align: middle;\n",
       "    }\n",
       "\n",
       "    .dataframe tbody tr th {\n",
       "        vertical-align: top;\n",
       "    }\n",
       "\n",
       "    .dataframe thead th {\n",
       "        text-align: right;\n",
       "    }\n",
       "</style>\n",
       "<table border=\"1\" class=\"dataframe\">\n",
       "  <thead>\n",
       "    <tr style=\"text-align: right;\">\n",
       "      <th></th>\n",
       "      <th>Slope</th>\n",
       "      <th>Intercept</th>\n",
       "      <th>Rvalue</th>\n",
       "      <th>Pvalue</th>\n",
       "      <th>StdErr</th>\n",
       "    </tr>\n",
       "  </thead>\n",
       "  <tbody>\n",
       "    <tr>\n",
       "      <th>0</th>\n",
       "      <td>-0.217728</td>\n",
       "      <td>1.573489</td>\n",
       "      <td>-0.459882</td>\n",
       "      <td>0.041334</td>\n",
       "      <td>0.099091</td>\n",
       "    </tr>\n",
       "  </tbody>\n",
       "</table>\n",
       "</div>"
      ],
      "text/plain": [
       "      Slope  Intercept    Rvalue    Pvalue    StdErr\n",
       "0 -0.217728   1.573489 -0.459882  0.041334  0.099091"
      ]
     },
     "execution_count": 147,
     "metadata": {},
     "output_type": "execute_result"
    }
   ],
   "source": [
    "#Prep Verizon data\n",
    "verizon_sentiments_df = pd.read_csv(verizon_sentiments)\n",
    "verizon_num_articles = verizon_sentiments_df.groupby('Date').count()['Sentiment']\n",
    "verizon_max_sent = verizon_sentiments_df.groupby('Date')['Sentiment'].max()\n",
    "verizon_min_sent = verizon_sentiments_df.groupby('Date')['Sentiment'].min()\n",
    "verizon_avg_sent = verizon_sentiments_df.groupby('Date')['Sentiment'].mean()\n",
    "verizon_sum_sent = verizon_sentiments_df.groupby('Date')['Sentiment'].sum()\n",
    "\n",
    "#Add columns to stocks data\n",
    "verizon_stocks_df = pd.read_csv(verizon_stocks).set_index('Date')\n",
    "verizon_stocks_df['#articles'] = [x for x in verizon_num_articles]\n",
    "verizon_stocks_df['max sentiment'] = [x for x in verizon_max_sent]\n",
    "verizon_stocks_df['min sentiment'] = [x for x in verizon_min_sent]\n",
    "verizon_stocks_df['avg sentiment'] = [x for x in verizon_avg_sent]\n",
    "verizon_stocks_df['sum sentiment'] = [x for x in verizon_sum_sent]\n",
    "verizon_stocks_df['Company'] = \"Verizon\"\n",
    "                            \n",
    "verizon_stocks_df = verizon_stocks_df.drop(['Unnamed: 0'],axis=1)\n",
    "verizon_stocks_df.head()\n",
    "\n",
    "#Statistical analysis\n",
    "(slope, intercept,rvalue,pvalue, stderr)=linregress(verizon_avg_sent, verizon_stocks_df['Percent Change'])\n",
    "# fit = slope * apple_stocks_df['Percent Change'] + intercept\n",
    "reg_df= pd.DataFrame({\"Slope\": [slope], \"Intercept\": [intercept], \"Rvalue\": [rvalue], \"Pvalue\": [pvalue], \"StdErr\": [stderr]})\n",
    "reg_df"
   ]
  },
  {
   "cell_type": "code",
   "execution_count": 148,
   "metadata": {},
   "outputs": [
    {
     "data": {
      "text/plain": [
       "(-0.07507777392438764, 0.7530783065721951)"
      ]
     },
     "execution_count": 148,
     "metadata": {},
     "output_type": "execute_result"
    }
   ],
   "source": [
    "#Prep Exxon data\n",
    "exxon_sentiments_df = pd.read_csv(exxon_sentiments)\n",
    "exxon_num_articles = exxon_sentiments_df.groupby('Date').count()['Sentiment']\n",
    "exxon_max_sent = exxon_sentiments_df.groupby('Date')['Sentiment'].max()\n",
    "exxon_min_sent = exxon_sentiments_df.groupby('Date')['Sentiment'].min()\n",
    "exxon_avg_sent = exxon_sentiments_df.groupby('Date')['Sentiment'].mean()\n",
    "exxon_sum_sent = exxon_sentiments_df.groupby('Date')['Sentiment'].sum()\n",
    "\n",
    "#Add columns to stocks data\n",
    "exxon_stocks_df = pd.read_csv(exxon_stocks).set_index('Date')\n",
    "exxon_stocks_df['#articles'] = [x for x in exxon_num_articles]\n",
    "exxon_stocks_df['max sentiment'] = [x for x in exxon_max_sent]\n",
    "exxon_stocks_df['min sentiment'] = [x for x in exxon_min_sent]\n",
    "exxon_stocks_df['avg sentiment'] = [x for x in exxon_avg_sent]\n",
    "exxon_stocks_df['sum sentiment'] = [x for x in exxon_sum_sent]\n",
    "exxon_stocks_df['Company'] = \"Verizon\"\n",
    "                            \n",
    "exxon_stocks_df = exxon_stocks_df.drop(['Unnamed: 0'],axis=1)\n",
    "exxon_stocks_df.head()\n",
    "\n",
    "#Statistical analysis\n",
    "(slope, intercept,rvalue,pvalue, stderr)=linregress(exxon_avg_sent, exxon_stocks_df['Percent Change'])\n",
    "# fit = slope * apple_stocks_df['Percent Change'] + intercept\n",
    "reg_df= pd.DataFrame({\"Slope\": [slope], \"Intercept\": [intercept], \"Rvalue\": [rvalue], \"Pvalue\": [pvalue], \"StdErr\": [stderr]})\n",
    "reg_df\n",
    "stats.pearsonr(exxon_avg_sent, exxon_stocks_df['Percent Change'])"
   ]
  },
  {
   "cell_type": "code",
   "execution_count": 116,
   "metadata": {},
   "outputs": [],
   "source": [
    "#Average sentiment per company\n",
    "x1 = apple_avg_sent\n",
    "x2 = amazon_avg_sent\n",
    "x3 = bankoa_avg_sent\n",
    "x4 = verizon_avg_sent\n",
    "x5 = exxon_avg_sent\n",
    "\n",
    "#Change in price per company\n",
    "y1 = apple_stocks_df['Percent Change']\n",
    "y2 = amazon_stocks_df['Percent Change']\n",
    "y3 = bankoa_stocks_df['Percent Change']\n",
    "y4 = verizon_stocks_df['Percent Change']\n",
    "y5 = exxon_stocks_df['Percent Change']\n",
    "\n",
    "#Number of articles\n",
    "z1 = 2 * apple_num_articles\n",
    "z2 = 2 * amazon_num_articles\n",
    "z3 = 2 * bankoa_num_articles\n",
    "z4 = 2 * verizon_num_articles\n",
    "z5 = 2 * exxon_num_articles\n",
    "\n",
    "#Sum of sentiment, compare to Z\n",
    "w1 = apple_sum_sent\n",
    "w2 = amazon_sum_sent\n",
    "w3 = bankoa_sum_sent\n",
    "w4 = verizon_sum_sent\n",
    "w5 = exxon_sum_sent\n"
   ]
  },
  {
   "cell_type": "code",
   "execution_count": 119,
   "metadata": {},
   "outputs": [
    {
     "data": {
      "image/png": "[encoded data removed]",
      "text/plain": [
       "<Figure size 432x288 with 1 Axes>"
      ]
     },
     "metadata": {
      "needs_background": "light"
     },
     "output_type": "display_data"
    }
   ],
   "source": [
    "plt.scatter(x1,y1,s=z1, color=\"m\", alpha= .5, edgecolors = \"black\", label =\"Apple\")\n",
    "plt.scatter(x2,y2,s=z2, color=\"orange\", alpha= .5, edgecolors = \"black\", label =\"Amazon\")\n",
    "plt.scatter(x3,y3,s=z3, color=\"b\", alpha= .5, edgecolors = \"black\", label =\"BoA\")\n",
    "plt.scatter(x4,y4,s=z4, color=\"black\", alpha= .5, edgecolors = \"black\", label =\"Verizon\")\n",
    "plt.scatter(x5,y5,s=z5, color=\"c\", alpha= .5, edgecolors = \"black\", label =\"Exxon\")\n",
    "plt.title(\"Average Sentiment/ Daily price change\")\n",
    "plt.xlabel('Average Sentiment')\n",
    "plt.ylabel('Daily price change %')\n",
    "\n",
    "\n",
    "plt.legend(loc=4)\n",
    "plt.show()\n",
    "#Are average sentiment and price change correlated \n"
   ]
  },
  {
   "cell_type": "code",
   "execution_count": 133,
   "metadata": {},
   "outputs": [
    {
     "data": {
      "image/png": "[encoded data removed]",
      "text/plain": [
       "<Figure size 432x288 with 1 Axes>"
      ]
     },
     "metadata": {
      "needs_background": "light"
     },
     "output_type": "display_data"
    }
   ],
   "source": [
    "plt.scatter(z1,y1, color=\"m\", alpha= .5, edgecolors = \"black\", label =\"Apple\")\n",
    "plt.scatter(z2,y2, color=\"orange\", alpha= .5, edgecolors = \"black\", label =\"Amazon\")\n",
    "plt.scatter(z3,y3, color=\"b\", alpha= .5, edgecolors = \"black\", label =\"BoA\")\n",
    "plt.scatter(z4,y4, color=\"black\", alpha= .5, edgecolors = \"black\", label =\"Verizon\")\n",
    "plt.scatter(z5,y5, color=\"c\", alpha= .5, edgecolors = \"black\", label =\"Exxon\")\n",
    "plt.title(\"Number of Articles/ Daily price change\")\n",
    "plt.xlabel('Number of Articles')\n",
    "plt.ylabel('Daily price change %')\n",
    "\n",
    "\n",
    "plt.legend(loc=3)\n",
    "plt.show()"
   ]
  },
  {
   "cell_type": "code",
   "execution_count": 134,
   "metadata": {},
   "outputs": [
    {
     "data": {
      "text/plain": [
       "100"
      ]
     },
     "execution_count": 134,
     "metadata": {},
     "output_type": "execute_result"
    }
   ],
   "source": []
  },
  {
   "cell_type": "code",
   "execution_count": null,
   "metadata": {},
   "outputs": [],
   "source": []
  }
 ],
 "metadata": {
  "kernelspec": {
   "display_name": "Python 3",
   "language": "python",
   "name": "python3"
  },
  "language_info": {
   "codemirror_mode": {
    "name": "ipython",
    "version": 3
   },
   "file_extension": ".py",
   "mimetype": "text/x-python",
   "name": "python",
   "nbconvert_exporter": "python",
   "pygments_lexer": "ipython3",
   "version": "3.6.6"
  }
 },
 "nbformat": 4,
 "nbformat_minor": 2
}
