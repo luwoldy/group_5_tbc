{
 "cells": [
  {
   "cell_type": "code",
   "execution_count": 1,
   "metadata": {},
   "outputs": [],
   "source": [
    "from config import int_key\n",
    "import requests\n",
    "import json\n",
    "import pandas as pd\n",
    "from datetime import datetime, timedelta"
   ]
  },
  {
   "cell_type": "code",
   "execution_count": 28,
   "metadata": {},
   "outputs": [],
   "source": [
    "#Get only weekdays in an array so we can search the News API\n",
    "Tickers= [\"AAPL\", \"BAC\", \"VZ\", \"WMT\", \"XOM\", \"AMZN\",]\n",
    "stock = requests.get(f\"https://api.iextrading.com/1.0/stock/{Tickers[0]}/chart/1m\")\n",
    "stocks = stock.json()\n",
    "dates = []\n",
    "\n",
    "for i in range(len(stocks)):\n",
    "    dates.append(stocks[i][\"date\"])\n",
    "\n",
    "    \n"
   ]
  },
  {
   "cell_type": "code",
   "execution_count": 18,
   "metadata": {},
   "outputs": [],
   "source": [
    "article_headline = []\n",
    "date_published = []\n",
    "body = []\n",
    "import aylien_news_api\n",
    "from aylien_news_api.rest import ApiException\n",
    "\n",
    "# Configure API key authorization: app_id\n",
    "aylien_news_api.configuration.api_key['X-AYLIEN-NewsAPI-Application-ID'] = 'abf8f744'\n",
    "# Configure API key authorization: app_key\n",
    "aylien_news_api.configuration.api_key['X-AYLIEN-NewsAPI-Application-Key'] = '2ca6bef1e403bc29c894f40e79feaf14'\n",
    "\n",
    "# create an instance of the API class\n",
    "api_instance = aylien_news_api.DefaultApi()\n",
    "for i in range(len(dates)):\n",
    "    opts = {\n",
    "      'body': 'Verizon',\n",
    "      'title': 'Verizon',\n",
    "      'language': ['en'],\n",
    "      'not_language': ['es', 'it'],\n",
    "      'published_at_start': f\"{dates[i]}T01:00:10Z\",\n",
    "      'published_at_end': f\"{dates[i]}T23:00:10Z\",\n",
    "      'per_page': 100,\n",
    "      'entities_body_text': [\n",
    "        'Verizon']  \n",
    "      #'cursor': 'AoJw6uq3sOgCL1N0b3J5IDIyMjEwMTA4OQ=='\n",
    "\n",
    "    }\n",
    "\n",
    "    try:\n",
    "        # List stories\n",
    "        api_response = api_instance.list_stories(**opts)\n",
    "\n",
    "    #     print(\"API called successfully. Returned data: \")\n",
    "    #     print(\"========================================\")\n",
    "        for story in api_response.stories:\n",
    "\n",
    "            article_headline.append(story.title)\n",
    "            date_published.append(story.published_at.date())\n",
    "            body.append(story.body)\n",
    "\n",
    "    except ApiException as e:\n",
    "        print(\"Exception when calling DefaultApi->list_stories: %sn\" % e)\n"
   ]
  },
  {
   "cell_type": "code",
   "execution_count": 19,
   "metadata": {},
   "outputs": [
    {
     "data": {
      "text/plain": [
       "974"
      ]
     },
     "execution_count": 19,
     "metadata": {},
     "output_type": "execute_result"
    }
   ],
   "source": [
    "len(article_headline)"
   ]
  },
  {
   "cell_type": "code",
   "execution_count": 20,
   "metadata": {},
   "outputs": [],
   "source": [
    "article_sentiment = []\n",
    "article_date = []\n",
    "for i in range(len(article_headline)):\n",
    "    #Request the sentiment\n",
    "    try:\n",
    "        url = f\"http://api.intellexer.com/analyzeSentiments?apikey={int_key}\"\n",
    "        sentiment = requests.post(url, data= json.dumps([{\"id\": \"1\", \"text\": article_headline[i] + body[i]}]),headers = {\"Content-Type\": \"application/json\", \"Cache-Control\": \"no-cache\"}).json()\n",
    "        article_date.append(date_published[i])\n",
    "        article_sentiment.append(float(sentiment['sentiments'][0]['w']))\n",
    "    except:\n",
    "        continue"
   ]
  },
  {
   "cell_type": "code",
   "execution_count": 21,
   "metadata": {},
   "outputs": [
    {
     "data": {
      "text/plain": [
       "970"
      ]
     },
     "execution_count": 21,
     "metadata": {},
     "output_type": "execute_result"
    }
   ],
   "source": [
    "len(article_sentiment)"
   ]
  },
  {
   "cell_type": "code",
   "execution_count": 22,
   "metadata": {},
   "outputs": [],
   "source": [
    "company_cols = {\"Date\": article_date,\n",
    "                \"Sentiment\": article_sentiment}\n",
    "company_data = pd.DataFrame(company_cols)\n",
    "#export to csv when ready\n",
    "company_data.to_csv(f\"Sentiments/{company}_sentiment_final.csv)"
   ]
  },
  {
   "cell_type": "code",
   "execution_count": null,
   "metadata": {},
   "outputs": [],
   "source": [
    "#Create a function to print out ticker prices for the dates\n",
    "def get_stock_csv(ticker):\n",
    "    change = []\n",
    "    stock_date = []\n",
    "    date = []\n",
    "    stock = requests.get(f\"https://api.iextrading.com/1.0/stock/{ticker}/chart/1m\")\n",
    "    stocks = stock.json()\n",
    "    \n",
    "    for i in range(len(stocks)):\n",
    "        change.append(stocks[i]['changePercent'])\n",
    "        stock_date.append(stocks[i]['date'])\n",
    "    stocks_df = pd.DataFrame({\"Date\":stock_date, \"Percent Change\": change})\n",
    "    stocks_df.to_csv(f\"Stock Prices/{ticker}.csv\")\n",
    "    \n",
    "    \n",
    " #Print out the company prices\n",
    "for ticker in Tickers:\n",
    "    get_stock_csv(ticker)  \n"
   ]
  },
  {
   "cell_type": "code",
   "execution_count": null,
   "metadata": {},
   "outputs": [],
   "source": []
  }
 ],
 "metadata": {
  "kernelspec": {
   "display_name": "Python 3",
   "language": "python",
   "name": "python3"
  },
  "language_info": {
   "codemirror_mode": {
    "name": "ipython",
    "version": 3
   },
   "file_extension": ".py",
   "mimetype": "text/x-python",
   "name": "python",
   "nbconvert_exporter": "python",
   "pygments_lexer": "ipython3",
   "version": "3.6.6"
  }
 },
 "nbformat": 4,
 "nbformat_minor": 2
}
