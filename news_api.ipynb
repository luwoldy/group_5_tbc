{
 "cells": [
  {
   "cell_type": "code",
   "execution_count": 2,
   "metadata": {},
   "outputs": [],
   "source": [
    "import requests\n",
    "from config import news_key\n",
    "from newsapi import NewsApiClient\n",
    "import json\n",
    "import pandas as pd\n",
    "from datetime import datetime, timedelta"
   ]
  },
  {
   "cell_type": "code",
   "execution_count": 3,
   "metadata": {},
   "outputs": [
    {
     "name": "stdout",
     "output_type": "stream",
     "text": [
      "2018-12-16\n"
     ]
    }
   ],
   "source": [
    "#We dynamically generating last 30 days\n",
    "dates = []\n",
    "for x in range(31):\n",
    "    dates.append(datetime.now() - timedelta(days=x))\n",
    "\n",
    "print(str(dates[30])[:10])"
   ]
  },
  {
   "cell_type": "code",
   "execution_count": 4,
   "metadata": {},
   "outputs": [],
   "source": [
    "# Init\n",
    "newsapi = NewsApiClient(api_key=news_key)\n",
    "\n",
    "# We looped throught 50 pages of amazon related articles to read headline, time, and description.\n",
    "amazon = []\n",
    "date = []\n",
    "description = []\n",
    "for x in range(1,50):\n",
    "    amazon_articles = newsapi.get_everything(q='amazon',\n",
    "                                      from_param= str(dates[28])[:10],\n",
    "                                      to=str(dates[0])[:10],\n",
    "                                      language='en',\n",
    "                                      sort_by='relevancy', page=x)\n",
    "    \n",
    "    for i in range(len(amazon_articles[\"articles\"])):\n",
    "        amazon.append(amazon_articles[\"articles\"][i][\"title\"])\n",
    "        date.append(amazon_articles[\"articles\"][i][\"publishedAt\"])\n",
    "        description.append(amazon_articles[\"articles\"][i][\"description\"])                              \n"
   ]
  },
  {
   "cell_type": "code",
   "execution_count": 5,
   "metadata": {},
   "outputs": [],
   "source": [
    "# We removed time stamp from PublishedAT column\n",
    "published_date = []\n",
    "\n",
    "for x in range(len(date)):\n",
    "    published_date.append(str(date[x])[:10])\n"
   ]
  },
  {
   "cell_type": "code",
   "execution_count": 6,
   "metadata": {},
   "outputs": [
    {
     "data": {
      "text/html": [
       "<div>\n",
       "<style scoped>\n",
       "    .dataframe tbody tr th:only-of-type {\n",
       "        vertical-align: middle;\n",
       "    }\n",
       "\n",
       "    .dataframe tbody tr th {\n",
       "        vertical-align: top;\n",
       "    }\n",
       "\n",
       "    .dataframe thead th {\n",
       "        text-align: right;\n",
       "    }\n",
       "</style>\n",
       "<table border=\"1\" class=\"dataframe\">\n",
       "  <thead>\n",
       "    <tr style=\"text-align: right;\">\n",
       "      <th></th>\n",
       "      <th>Headline</th>\n",
       "      <th>PublishedAt</th>\n",
       "      <th>Description</th>\n",
       "    </tr>\n",
       "  </thead>\n",
       "  <tbody>\n",
       "    <tr>\n",
       "      <th>0</th>\n",
       "      <td>'Luke Cage' showrunner jumps ship for Amazon</td>\n",
       "      <td>2018-12-23</td>\n",
       "      <td>Netflix's decision to scrap Luke Cage (among o...</td>\n",
       "    </tr>\n",
       "    <tr>\n",
       "      <th>1</th>\n",
       "      <td>Amazon Alexa suffers Christmas outage in Europe</td>\n",
       "      <td>2018-12-26</td>\n",
       "      <td>It seems Amazon's Black Friday and Cyber Monda...</td>\n",
       "    </tr>\n",
       "    <tr>\n",
       "      <th>2</th>\n",
       "      <td>Amazon Prime's Promise of Two-Day Delivery Is ...</td>\n",
       "      <td>2018-12-21</td>\n",
       "      <td>Photo: Leon Neal/Getty Images Having a baby in...</td>\n",
       "    </tr>\n",
       "    <tr>\n",
       "      <th>3</th>\n",
       "      <td>Amazon Air expands with 10 more cargo aircraft...</td>\n",
       "      <td>2018-12-21</td>\n",
       "      <td>Days after FedEx CEO Frederick Smith dismissed...</td>\n",
       "    </tr>\n",
       "    <tr>\n",
       "      <th>4</th>\n",
       "      <td>Amazon revisits Lorena Bobbitt’s trial in new ...</td>\n",
       "      <td>2019-01-09</td>\n",
       "      <td>Last year, Amazon greenlit a Jordan Peele-prod...</td>\n",
       "    </tr>\n",
       "  </tbody>\n",
       "</table>\n",
       "</div>"
      ],
      "text/plain": [
       "                                            Headline PublishedAt  \\\n",
       "0       'Luke Cage' showrunner jumps ship for Amazon  2018-12-23   \n",
       "1    Amazon Alexa suffers Christmas outage in Europe  2018-12-26   \n",
       "2  Amazon Prime's Promise of Two-Day Delivery Is ...  2018-12-21   \n",
       "3  Amazon Air expands with 10 more cargo aircraft...  2018-12-21   \n",
       "4  Amazon revisits Lorena Bobbitt’s trial in new ...  2019-01-09   \n",
       "\n",
       "                                         Description  \n",
       "0  Netflix's decision to scrap Luke Cage (among o...  \n",
       "1  It seems Amazon's Black Friday and Cyber Monda...  \n",
       "2  Photo: Leon Neal/Getty Images Having a baby in...  \n",
       "3  Days after FedEx CEO Frederick Smith dismissed...  \n",
       "4  Last year, Amazon greenlit a Jordan Peele-prod...  "
      ]
     },
     "execution_count": 6,
     "metadata": {},
     "output_type": "execute_result"
    }
   ],
   "source": [
    "df = pd.DataFrame({\"Headline\":amazon, \"PublishedAt\":published_date, \"Description\":description})\n",
    "df.head()"
   ]
  },
  {
   "cell_type": "code",
   "execution_count": null,
   "metadata": {},
   "outputs": [],
   "source": []
  }
 ],
 "metadata": {
  "kernelspec": {
   "display_name": "Python 3",
   "language": "python",
   "name": "python3"
  },
  "language_info": {
   "codemirror_mode": {
    "name": "ipython",
    "version": 3
   },
   "file_extension": ".py",
   "mimetype": "text/x-python",
   "name": "python",
   "nbconvert_exporter": "python",
   "pygments_lexer": "ipython3",
   "version": "3.6.6"
  }
 },
 "nbformat": 4,
 "nbformat_minor": 2
}
