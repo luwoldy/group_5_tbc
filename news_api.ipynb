{
 "cells": [
  {
   "cell_type": "code",
   "execution_count": 1,
   "metadata": {},
   "outputs": [],
   "source": [
    "import requests\n",
    "from config import news_key\n",
    "from newsapi import NewsApiClient\n",
    "import json\n",
    "import pandas as pd\n",
    "from datetime import datetime, timedelta"
   ]
  },
  {
   "cell_type": "code",
   "execution_count": 2,
   "metadata": {},
   "outputs": [
    {
     "name": "stdout",
     "output_type": "stream",
     "text": [
      "2018-12-17\n"
     ]
    }
   ],
   "source": [
    "#We dynamically generating last 30 days\n",
    "dates = []\n",
    "for x in range(31):\n",
    "    dates.append(datetime.now() - timedelta(days=x))\n",
    "\n",
    "print(str(dates[30])[:10])"
   ]
  },
  {
   "cell_type": "code",
   "execution_count": 3,
   "metadata": {},
   "outputs": [],
   "source": [
    "# Init\n",
    "newsapi = NewsApiClient(api_key=news_key)\n",
    "\n",
    "# We looped throught 50 pages of amazon related articles to read headline, time, and description.\n",
    "headline = []\n",
    "date = []\n",
    "description = []\n",
    "\n",
    "for x in range(1,50):\n",
    "    amazon_articles = newsapi.get_everything(q='amazon',\n",
    "                                      from_param= str(dates[28])[:10],\n",
    "                                      to=str(dates[27])[:10],\n",
    "                                      language='en',\n",
    "                                      sort_by='relevancy', page=x)\n",
    "    \n",
    "    for i in range(len(amazon_articles[\"articles\"])):\n",
    "        headline.append(amazon_articles[\"articles\"][i][\"title\"])\n",
    "        date.append(amazon_articles[\"articles\"][i][\"publishedAt\"])\n",
    "        description.append(amazon_articles[\"articles\"][i][\"description\"])                              \n",
    "    #request the headline\n",
    "\n",
    "        #loop through entities and check for type 2\n",
    "        #append the text of the type 2 entity to Organization column\n",
    "        #if an org is found in the headline go to next loop\n",
    "        #if its not loop through description\n",
    "        "
   ]
  },
  {
   "cell_type": "code",
   "execution_count": 4,
   "metadata": {},
   "outputs": [
    {
     "data": {
      "text/plain": [
       "980"
      ]
     },
     "execution_count": 4,
     "metadata": {},
     "output_type": "execute_result"
    }
   ],
   "source": [
    "len(headline)"
   ]
  },
  {
   "cell_type": "code",
   "execution_count": 5,
   "metadata": {},
   "outputs": [
    {
     "name": "stdout",
     "output_type": "stream",
     "text": [
      "6\n"
     ]
    }
   ],
   "source": [
    "organization = []\n",
    "for i in range(5):\n",
    "    request = requests.post(\"http://api.intellexer.com/recognizeNeText?apikey=fbe3ac25-304d-4384-aeb8-4bc2c32568e4&loadNamedEntities=true&loadRelationsTree=true&loadSentences=true\", data= f\"{headline[i]}\".encode('utf-8')).json()\n",
    "    for y in range(len(request[\"entities\"])):\n",
    "        try:\n",
    "            if request['entities'][y][\"type\"]==2:\n",
    "                organization.append(request[\"entities\"][y][\"text\"]) \n",
    "        except:\n",
    "            continue\n",
    "print(len(organization))                  "
   ]
  },
  {
   "cell_type": "code",
   "execution_count": 6,
   "metadata": {},
   "outputs": [
    {
     "data": {
      "text/plain": [
       "col1    2\n",
       "dtype: int64"
      ]
     },
     "execution_count": 6,
     "metadata": {},
     "output_type": "execute_result"
    }
   ],
   "source": [
    "var1 =pd.DataFrame({\"col1\": organization})\n",
    "var1.loc[var1[\"col1\"]==\"Amazon\"].count()"
   ]
  },
  {
   "cell_type": "code",
   "execution_count": 5,
   "metadata": {},
   "outputs": [],
   "source": [
    "# We removed time stamp from PublishedAT column\n",
    "published_date = []\n",
    "\n",
    "for x in range(len(date)):\n",
    "    published_date.append(str(date[x])[:10])\n"
   ]
  },
  {
   "cell_type": "code",
   "execution_count": 6,
   "metadata": {},
   "outputs": [
    {
     "data": {
      "text/html": [
       "<div>\n",
       "<style scoped>\n",
       "    .dataframe tbody tr th:only-of-type {\n",
       "        vertical-align: middle;\n",
       "    }\n",
       "\n",
       "    .dataframe tbody tr th {\n",
       "        vertical-align: top;\n",
       "    }\n",
       "\n",
       "    .dataframe thead th {\n",
       "        text-align: right;\n",
       "    }\n",
       "</style>\n",
       "<table border=\"1\" class=\"dataframe\">\n",
       "  <thead>\n",
       "    <tr style=\"text-align: right;\">\n",
       "      <th></th>\n",
       "      <th>Headline</th>\n",
       "      <th>PublishedAt</th>\n",
       "      <th>Description</th>\n",
       "    </tr>\n",
       "  </thead>\n",
       "  <tbody>\n",
       "    <tr>\n",
       "      <th>0</th>\n",
       "      <td>2018: The year Amazon became even harder to avoid</td>\n",
       "      <td>2018-12-18</td>\n",
       "      <td>It's been ages since Amazon was just a place t...</td>\n",
       "    </tr>\n",
       "    <tr>\n",
       "      <th>1</th>\n",
       "      <td>Amazon and Facebook Reportedly Had a Secret Da...</td>\n",
       "      <td>2018-12-19</td>\n",
       "      <td>Back in 2015, a woman named Imy Santiago wrote...</td>\n",
       "    </tr>\n",
       "    <tr>\n",
       "      <th>2</th>\n",
       "      <td>Target’s Shipt same-day delivery service will ...</td>\n",
       "      <td>2018-12-18</td>\n",
       "      <td>Shipt, the same-day grocery delivery service a...</td>\n",
       "    </tr>\n",
       "    <tr>\n",
       "      <th>3</th>\n",
       "      <td>The best UK deals for Tuesday: Beats headphone...</td>\n",
       "      <td>2018-12-18</td>\n",
       "      <td>The Amazon Christmas sale only has a few more ...</td>\n",
       "    </tr>\n",
       "    <tr>\n",
       "      <th>4</th>\n",
       "      <td>Where does your Facebook data go?</td>\n",
       "      <td>2018-12-19</td>\n",
       "      <td>Facebook offered more of its users' data to co...</td>\n",
       "    </tr>\n",
       "  </tbody>\n",
       "</table>\n",
       "</div>"
      ],
      "text/plain": [
       "                                            Headline PublishedAt  \\\n",
       "0  2018: The year Amazon became even harder to avoid  2018-12-18   \n",
       "1  Amazon and Facebook Reportedly Had a Secret Da...  2018-12-19   \n",
       "2  Target’s Shipt same-day delivery service will ...  2018-12-18   \n",
       "3  The best UK deals for Tuesday: Beats headphone...  2018-12-18   \n",
       "4                  Where does your Facebook data go?  2018-12-19   \n",
       "\n",
       "                                         Description  \n",
       "0  It's been ages since Amazon was just a place t...  \n",
       "1  Back in 2015, a woman named Imy Santiago wrote...  \n",
       "2  Shipt, the same-day grocery delivery service a...  \n",
       "3  The Amazon Christmas sale only has a few more ...  \n",
       "4  Facebook offered more of its users' data to co...  "
      ]
     },
     "execution_count": 6,
     "metadata": {},
     "output_type": "execute_result"
    }
   ],
   "source": [
    "df = pd.DataFrame({\"Headline\":headline, \"PublishedAt\":published_date, \"Description\":description})\n",
    "df.head()"
   ]
  },
  {
   "cell_type": "code",
   "execution_count": null,
   "metadata": {},
   "outputs": [],
   "source": []
  }
 ],
 "metadata": {
  "kernelspec": {
   "display_name": "Python 3",
   "language": "python",
   "name": "python3"
  },
  "language_info": {
   "codemirror_mode": {
    "name": "ipython",
    "version": 3
   },
   "file_extension": ".py",
   "mimetype": "text/x-python",
   "name": "python",
   "nbconvert_exporter": "python",
   "pygments_lexer": "ipython3",
   "version": "3.6.6"
  }
 },
 "nbformat": 4,
 "nbformat_minor": 2
}
