{
 "cells": [
  {
   "cell_type": "code",
   "execution_count": 9,
   "metadata": {},
   "outputs": [],
   "source": [
    "import requests\n",
    "from config import news_key\n",
    "from newsapi import NewsApiClient\n",
    "import json\n",
    "import pandas as pd\n"
   ]
  },
  {
   "cell_type": "code",
   "execution_count": 24,
   "metadata": {},
   "outputs": [],
   "source": [
    "# Init\n",
    "newsapi = NewsApiClient(api_key=news_key)\n",
    "\n",
    "# We looped throught 50 pages of amazon related articles to read headline, time, and description.\n",
    "amazon = []\n",
    "date = []\n",
    "description = []\n",
    "for x in range(1,50):\n",
    "    amazon_articles = newsapi.get_everything(q='amazon',\n",
    "                                      from_param='2018-12-17',\n",
    "                                      to='2018-12-21',\n",
    "                                      language='en',\n",
    "                                      sort_by='relevancy', page=x)\n",
    "    \n",
    "    for i in range(len(amazon_articles[\"articles\"])):\n",
    "        amazon.append(amazon_articles[\"articles\"][i][\"title\"])\n",
    "        date.append(amazon_articles[\"articles\"][i][\"publishedAt\"])\n",
    "        description.append(amazon_articles[\"articles\"][i][\"description\"])                              \n"
   ]
  },
  {
   "cell_type": "code",
   "execution_count": 34,
   "metadata": {},
   "outputs": [
    {
     "data": {
      "text/html": [
       "<div>\n",
       "<style scoped>\n",
       "    .dataframe tbody tr th:only-of-type {\n",
       "        vertical-align: middle;\n",
       "    }\n",
       "\n",
       "    .dataframe tbody tr th {\n",
       "        vertical-align: top;\n",
       "    }\n",
       "\n",
       "    .dataframe thead th {\n",
       "        text-align: right;\n",
       "    }\n",
       "</style>\n",
       "<table border=\"1\" class=\"dataframe\">\n",
       "  <thead>\n",
       "    <tr style=\"text-align: right;\">\n",
       "      <th></th>\n",
       "      <th>Company</th>\n",
       "      <th>PublishedAt</th>\n",
       "      <th>Description</th>\n",
       "    </tr>\n",
       "  </thead>\n",
       "  <tbody>\n",
       "    <tr>\n",
       "      <th>0</th>\n",
       "      <td>Amazon Prime's Promise of Two-Day Delivery Is ...</td>\n",
       "      <td>2018-12-21T15:00:00Z</td>\n",
       "      <td>Photo: Leon Neal/Getty Images Having a baby in...</td>\n",
       "    </tr>\n",
       "    <tr>\n",
       "      <th>1</th>\n",
       "      <td>Amazon Air expands with 10 more cargo aircraft...</td>\n",
       "      <td>2018-12-21T15:05:57Z</td>\n",
       "      <td>Days after FedEx CEO Frederick Smith dismissed...</td>\n",
       "    </tr>\n",
       "    <tr>\n",
       "      <th>2</th>\n",
       "      <td>2018: The year Amazon became even harder to avoid</td>\n",
       "      <td>2018-12-18T16:40:00Z</td>\n",
       "      <td>It's been ages since Amazon was just a place t...</td>\n",
       "    </tr>\n",
       "    <tr>\n",
       "      <th>3</th>\n",
       "      <td>Amazon sent private Alexa audio recordings to ...</td>\n",
       "      <td>2018-12-20T13:50:00Z</td>\n",
       "      <td>An Amazon customer in Germany received another...</td>\n",
       "    </tr>\n",
       "    <tr>\n",
       "      <th>4</th>\n",
       "      <td>The Amazon Alexa Eavesdropping Nightmare Came ...</td>\n",
       "      <td>2018-12-20T16:24:00Z</td>\n",
       "      <td>An Amazon user in Germany recently requested d...</td>\n",
       "    </tr>\n",
       "  </tbody>\n",
       "</table>\n",
       "</div>"
      ],
      "text/plain": [
       "                                             Company           PublishedAt  \\\n",
       "0  Amazon Prime's Promise of Two-Day Delivery Is ...  2018-12-21T15:00:00Z   \n",
       "1  Amazon Air expands with 10 more cargo aircraft...  2018-12-21T15:05:57Z   \n",
       "2  2018: The year Amazon became even harder to avoid  2018-12-18T16:40:00Z   \n",
       "3  Amazon sent private Alexa audio recordings to ...  2018-12-20T13:50:00Z   \n",
       "4  The Amazon Alexa Eavesdropping Nightmare Came ...  2018-12-20T16:24:00Z   \n",
       "\n",
       "                                         Description  \n",
       "0  Photo: Leon Neal/Getty Images Having a baby in...  \n",
       "1  Days after FedEx CEO Frederick Smith dismissed...  \n",
       "2  It's been ages since Amazon was just a place t...  \n",
       "3  An Amazon customer in Germany received another...  \n",
       "4  An Amazon user in Germany recently requested d...  "
      ]
     },
     "execution_count": 34,
     "metadata": {},
     "output_type": "execute_result"
    }
   ],
   "source": [
    "df = pd.DataFrame({\"Company\":amazon, \"PublishedAt\":date, \"Description\":description})\n",
    "df.head()"
   ]
  }
 ],
 "metadata": {
  "kernelspec": {
   "display_name": "Python 3",
   "language": "python",
   "name": "python3"
  },
  "language_info": {
   "codemirror_mode": {
    "name": "ipython",
    "version": 3
   },
   "file_extension": ".py",
   "mimetype": "text/x-python",
   "name": "python",
   "nbconvert_exporter": "python",
   "pygments_lexer": "ipython3",
   "version": "3.6.6"
  }
 },
 "nbformat": 4,
 "nbformat_minor": 2
}
